{
  "nbformat": 4,
  "nbformat_minor": 0,
  "metadata": {
    "colab": {
      "name": "利用Colab操作Rclone进行转存.ipynb",
      "provenance": [],
      "collapsed_sections": [],
      "include_colab_link": true
    },
    "kernelspec": {
      "name": "python3",
      "display_name": "Python 3"
    }
  },
  "cells": [
    {
      "cell_type": "markdown",
      "metadata": {
        "id": "view-in-github",
        "colab_type": "text"
      },
      "source": [
        "<a href=\"https://colab.research.google.com/github/RomEYer-AwELF/DriveMover/blob/main/%E5%88%A9%E7%94%A8Colab%E6%93%8D%E4%BD%9CRclone%E8%BF%9B%E8%A1%8C%E8%BD%AC%E5%AD%98.ipynb\" target=\"_parent\"><img src=\"https://colab.research.google.com/assets/colab-badge.svg\" alt=\"Open In Colab\"/></a>"
      ]
    },
    {
      "cell_type": "markdown",
      "metadata": {
        "id": "grN7OrKK10ih"
      },
      "source": [
        "## <font color=\"#FA8072\">本 Colab 脚本用于利用 Rclone 快速搬运多网盘文件</font>"
      ]
    },
    {
      "cell_type": "code",
      "metadata": {
        "id": "oSj8FecATGmL",
        "cellView": "form"
      },
      "source": [
        "#@markdown ### ← 点击此处运行\n",
        "#@markdown ### <font color=\"#FA8072\">挂载 Google Drive 并且安装 Rclone</font>\n",
        "#@markdown <font color=\"#95C7AD\">每一次分配 Colab 后，请先运行该步骤 </font><br>\n",
        "#@markdown <font color=\"#95C7AD\">请注意查看生成的文件，并且放入配置文件</font>\n",
        "from google.colab import drive\n",
        "from IPython.display import clear_output\n",
        "print(\"开始挂载GoogleDrive\")\n",
        "drive.mount('/content/drive')\n",
        "clear_output()\n",
        "print(\"挂载完毕！\")\n",
        "print(\"开始安装rclone\")\n",
        "!apt-get install curl\n",
        "!apt-get install ifstat\n",
        "!curl https://rclone.org/install.sh | sudo bash\n",
        "print(\"安装完毕！\")\n",
        "print(\"创建目录中\")\n",
        "!mkdir /content/drive/\"My Drive\"/.config\n",
        "!mkdir /content/drive/\"My Drive\"/.config/rclone\n",
        "!mkdir /content/drive/\"My Drive\"/log\n",
        "!mkdir /root/.config\n",
        "!mkdir /root/.config/rclone\n",
        "print(\"创建完毕！\")"
      ],
      "execution_count": null,
      "outputs": []
    },
    {
      "cell_type": "code",
      "metadata": {
        "id": "ttU_VwbzTpvy",
        "cellView": "form"
      },
      "source": [
        "#@markdown ### ← 点击此处运行\n",
        "#@markdown ### <font color=\"#FA8072\">移动配置文件到指定目录</font>\n",
        "!rm /root/.config/rclone/rclone.conf\n",
        "!cp -r /content/drive/\"My Drive\"/.config/rclone/rclone.conf /root/.config/rclone/"
      ],
      "execution_count": null,
      "outputs": []
    },
    {
      "cell_type": "code",
      "metadata": {
        "id": "jKd4Lle6WOL8",
        "cellView": "form"
      },
      "source": [
        "#@markdown ### ← 点击此处运行\n",
        "#@markdown ### <font color=\"#FA8072\">手动配置</font>\n",
        "#@markdown <font color=\"#95C7AD\">如果需要请运行进行手动配置，无需则跳过该部分</font>\n",
        "!rclone config"
      ],
      "execution_count": null,
      "outputs": []
    },
    {
      "cell_type": "code",
      "metadata": {
        "id": "74z6m1SgWiCM",
        "cellView": "form"
      },
      "source": [
        "#@markdown ### ← 点击此处运行\n",
        "#@markdown ### <font color=\"#FA8072\">移动配置文件到指定目录</font>\n",
        "#@markdown <font color=\"#95C7AD\">下面填入所设置的网盘名称</font>\n",
        "Drive1 = \"OneDriveM\" #@param {type: \"string\"}\n",
        "Path1 = \"\" #@param {type: \"string\"}\n",
        "Drive2 = \"ODB\" #@param {type: \"string\"}\n",
        "Path2 = \"/RomEYer\" #@param {type: \"string\"}\n",
        "!nohup /usr/bin/rclone copy \"$Drive1\":\"$Path1\" \"$Drive2\":\"$Path2\" --transfers 1024 --checkers 1024 >> /content/drive/\"My Drive\"/log/Drive.log 2>&1 &\n",
        "!ifstat"
      ],
      "execution_count": null,
      "outputs": []
    }
  ]
}